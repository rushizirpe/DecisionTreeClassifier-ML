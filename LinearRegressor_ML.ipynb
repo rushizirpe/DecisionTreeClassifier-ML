{
  "nbformat": 4,
  "nbformat_minor": 0,
  "metadata": {
    "colab": {
      "provenance": [],
      "collapsed_sections": [
        "v2Bn1FLvf2LF"
      ]
    },
    "kernelspec": {
      "name": "python3",
      "display_name": "Python 3"
    },
    "language_info": {
      "name": "python"
    }
  },
  "cells": [
    {
      "cell_type": "code",
      "execution_count": 106,
      "metadata": {
        "id": "bvDh5ddqKRIw"
      },
      "outputs": [],
      "source": [
        "import numpy as np"
      ]
    },
    {
      "cell_type": "markdown",
      "source": [
        "##Model Object"
      ],
      "metadata": {
        "id": "9ElI6FeYf9pE"
      }
    },
    {
      "cell_type": "code",
      "source": [
        "class LinearRegression():\n",
        "\n",
        "  def __init__(self,fit_intercept=True):\n",
        "    self.coef_=None\n",
        "    self.intercept_=None\n",
        "    self._fit_intercept=fit_intercept\n",
        "\n",
        "  def __repr__(self):\n",
        "    return \"Linear Regression Model\"\n",
        "\n",
        "  def fit(self, X,y):\n",
        "    \"\"\"\n",
        "    Fit model coefficients\n",
        "\n",
        "    Arguments:\n",
        "    X: 1D or 2D numpy array of input/ttraining data\n",
        "    y: 1D numpy array of target/label \n",
        "    \"\"\"\n",
        "\n",
        "    # Check if X is 1D or 2D array\n",
        "    if len(X.shape)==1:\n",
        "      X = X.reshape(-1,1)\n",
        "\n",
        "    if self._fit_intercept:\n",
        "        X_biased = np.c_[np.ones(X.shape[0]), X]\n",
        "    else:\n",
        "        X_biased = X\n",
        "    \n",
        "    # closed form solution\n",
        "    xTx = np.dot(X_biased.T, X_biased)\n",
        "    inverse_xTx = np.linalg.inv(xTx)\n",
        "    xTy = np.dot(X_biased.T, y)\n",
        "    coef = np.dot(inverse_xTx, xTy)\n",
        "\n",
        "    # set attributes\n",
        "    if self._fit_intercept:\n",
        "        self.intercept_ = coef[0]\n",
        "        self.coef_ = coef[1:]\n",
        "    else:\n",
        "        self.intercept_ = 0\n",
        "        self.coef_ = coef\n",
        "\n",
        "  def predict(self, X):\n",
        "    \"\"\"Output model prediction.\n",
        "\n",
        "    Arguments:\n",
        "    X: 1D or 2D numpy array\n",
        "    \"\"\"\n",
        "    # check if X is 1D or 2D array\n",
        "    if len(X.shape) == 1:\n",
        "        X = X.reshape(-1,1)\n",
        "    self.predicted_ = self.intercept_ + np.dot(X, self.coef_)\n",
        "    return self.predicted_\n"
      ],
      "metadata": {
        "id": "x-k1ISfQKcM7"
      },
      "execution_count": 140,
      "outputs": []
    },
    {
      "cell_type": "markdown",
      "source": [
        "##Model Implementation"
      ],
      "metadata": {
        "id": "v2Bn1FLvf2LF"
      }
    },
    {
      "cell_type": "code",
      "source": [
        "model=LinearRegression()"
      ],
      "metadata": {
        "id": "HujgWMbGKyWK"
      },
      "execution_count": 141,
      "outputs": []
    },
    {
      "cell_type": "code",
      "source": [
        "from sklearn import datasets\n",
        "from sklearn.model_selection import train_test_split\n",
        "from sklearn.preprocessing import StandardScaler\n",
        "\n",
        "data = datasets.load_diabetes()\n",
        "X = data['data']\n",
        "Y = data['target']\n",
        "\n",
        "X_train, X_test, Y_train, Y_test = train_test_split(X, Y, test_size=.2, random_state=41)"
      ],
      "metadata": {
        "id": "KoiU5YE4K54G"
      },
      "execution_count": 147,
      "outputs": []
    },
    {
      "cell_type": "code",
      "source": [
        "model.fit(X_train, Y_train)"
      ],
      "metadata": {
        "id": "vptiaSVhXHbi"
      },
      "execution_count": 148,
      "outputs": []
    },
    {
      "cell_type": "code",
      "source": [
        "model.predict(X_test)"
      ],
      "metadata": {
        "colab": {
          "base_uri": "https://localhost:8080/"
        },
        "id": "3jtmrIXFXOA_",
        "outputId": "77163763-8df7-435d-9b14-c2039c70db12"
      },
      "execution_count": 149,
      "outputs": [
        {
          "output_type": "execute_result",
          "data": {
            "text/plain": [
              "array([240.68494773, 189.59915445, 175.57815132, 205.07874966,\n",
              "       136.97794201, 144.35675319, 148.80819735, 123.45451372,\n",
              "       130.7523313 ,  70.1370028 ,  54.02412192, 148.5865755 ,\n",
              "       179.16786541, 175.73723804, 178.39044986, 160.89472936,\n",
              "       261.97658684, 225.39364496, 195.62151117, 169.71931653,\n",
              "       122.84407878, 150.93095673,  51.23742056, 120.58539998,\n",
              "       148.99539261, 169.96884821, 158.2634874 , 220.96092634,\n",
              "       228.37462111, 194.27544884, 191.34275964,  96.72038732,\n",
              "        42.98941515, 138.97286317, 141.77369637,  93.81196094,\n",
              "       161.69489319, 256.54932202,  49.23744136,  42.84118544,\n",
              "       118.3597019 ,  96.22370083, 209.44757914, 243.8916538 ,\n",
              "        74.13771854, 205.72297687, 205.24966475, 103.82264508,\n",
              "       115.49202596, 109.33655973, 216.47497805, 194.27916984,\n",
              "        86.35229306, 195.7769118 , 113.47928424, 149.44185829,\n",
              "       114.71595488, 251.60123921, 186.43035354, 218.90813024,\n",
              "       139.50622274, 161.81223065, 184.42047691, 180.38999275,\n",
              "       192.56437233, 129.9877745 , 132.49186225,  83.70751003,\n",
              "       170.66106543, 232.62040487, 159.38567922, 115.4970162 ,\n",
              "       228.27338312, 153.72099202, 138.98990912,  80.85888629,\n",
              "       212.1344831 ,  57.27565483, 258.75222111, 283.53930587,\n",
              "       202.87521503, 245.02249521, 127.40571997, 171.50050883,\n",
              "       177.62142444,  57.12670131, 143.45287482, 241.67102397,\n",
              "       119.29598485])"
            ]
          },
          "metadata": {},
          "execution_count": 149
        }
      ]
    },
    {
      "cell_type": "code",
      "source": [],
      "metadata": {
        "id": "KyPPDgAqfcAI"
      },
      "execution_count": 146,
      "outputs": []
    }
  ]
}