{
  "cells": [
    {
      "cell_type": "code",
      "execution_count": null,
      "metadata": {
        "id": "lIYdn1woOS1n"
      },
      "outputs": [],
      "source": [
        "def sgd(X, y, learning_rate=0.01, epochs=100):\n",
        "    m, n = X.shape\n",
        "    w = np.zeros(n)\n",
        "    b = 0\n",
        "    \n",
        "    for epoch in range(epochs):\n",
        "        for i in range(m):\n",
        "            # Select a random training example\n",
        "            j = np.random.randint(m)\n",
        "            xi = X[j]\n",
        "            yi = y[j]\n",
        "            \n",
        "            # Compute the gradient of the loss function with respect to w and b\n",
        "            dw, db = compute_gradient(xi, yi, w, b)\n",
        "            \n",
        "            # Update the parameters\n",
        "            w -= learning_rate * dw\n",
        "            b -= learning_rate * db\n",
        "            \n",
        "    return w, b"
      ]
    }
  ],
  "metadata": {
    "colab": {
      "provenance": []
    },
    "kernelspec": {
      "display_name": "Python 3",
      "name": "python3"
    }
  },
  "nbformat": 4,
  "nbformat_minor": 0
}